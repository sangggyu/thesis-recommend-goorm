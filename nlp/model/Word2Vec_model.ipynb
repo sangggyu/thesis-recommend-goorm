{
 "cells": [
  {
   "cell_type": "code",
   "execution_count": 8,
   "id": "d08cca94",
   "metadata": {},
   "outputs": [],
   "source": [
    "from konlpy.tag import Mecab\n",
    "from gensim.models import Word2Vec\n",
    "import pandas as pd"
   ]
  },
  {
   "cell_type": "code",
   "execution_count": 12,
   "id": "a97969b9",
   "metadata": {},
   "outputs": [],
   "source": [
    "# CSV 파일 경로 설정\n",
    "csv_path = 'Paper_test.csv'\n",
    "\n",
    "# CSV 파일 읽기\n",
    "df = pd.read_csv(csv_path, encoding='utf-8-sig')\n",
    "\n",
    "# Mecab 설정\n",
    "mecab = Mecab(r'C:\\mecab\\mecab-ko-dic')\n",
    "\n",
    "tokenized_text = [mecab.morphs(text) for text in df['abstract'] + ' ' + df['keywords']]\n",
    "\n",
    "# Skip-gram 모델 학습\n",
    "skipgram_model = Word2Vec(sentences=tokenized_text, vector_size=100, window=5, sg=1, min_count=1, workers=4)\n",
    "\n",
    "#모델 save\n",
    "skipgram_model.save('skipgram_model.bin')"
   ]
  },
  {
   "cell_type": "code",
   "execution_count": 27,
   "id": "43ee240d",
   "metadata": {
    "scrolled": true
   },
   "outputs": [
    {
     "name": "stdout",
     "output_type": "stream",
     "text": [
      "가장 유사한 논문 ID: 미국 (유사도: 0.8405)\n",
      "논문 정보:\n",
      "                    doc_id                                            title  \\\n",
      "1908   CFKO201636062688544                        한국과 영국의 재난관리 체제에 대한 비교 분석   \n",
      "4292   JAKO201211559437232                   지하철범죄 예방전략 : 서울 지하철의 성범죄를 중심으로   \n",
      "4510   JAKO201224963707116               영국의 민간경비 의무적 자격증 및 인증계약자 제도에 관한 연구   \n",
      "6339   JAKO201436438765155                     윤이상의 음악세계로 살펴본 통영국제음악제의 발전방향   \n",
      "8295   JAKO201712256377711          영국의 재난관리체계 및 재난위험성 평가제도의 도입 및 적용에 관한 연구   \n",
      "9420   JAKO201819063369999                          영국의 범죄정보 기반 경찰활동에 관한 연구   \n",
      "9810   JAKO201900937325474  각 국별 수출물량지수의 비교 분석 : 한국, 캐나다, 브라질, 영국, 호주를 중심으로   \n",
      "10107  JAKO201913261020675          영국과 한국의 민간조사원 비교 연구 - 실종자 조사시스템을 중심으로 -   \n",
      "11029  JAKO202022560455058                    한국 대학생들의 미국영어와 영국영어의 모음 인지 비교   \n",
      "\n",
      "           authors          journal  year  \\\n",
      "1908   윤종한;유시생;박성제  한국수자원학회:학술대회논문집  2016   \n",
      "4292       노성훈;김학경       한국콘텐츠학회논문지  2012   \n",
      "4510       이성기;김학경           시큐리티연구  2012   \n",
      "6339           이의신       한국콘텐츠학회논문지  2014   \n",
      "8295        김학경;강욱           시큐리티연구  2017   \n",
      "9420       장광호;김문귀           시큐리티연구  2018   \n",
      "9810       김신중;최정일       한국콘텐츠학회논문지  2019   \n",
      "10107  곽민준;최연준;남궁록           시큐리티연구  2019   \n",
      "11029      이신숙;초미희       한국콘텐츠학회논문지  2020   \n",
      "\n",
      "                                                abstract  \\\n",
      "1908   기후변화의 영향으로 전세계적으로 이상 기후 및 자연재해가 증가하면서 재난을 효과적으...   \n",
      "4292   본 논문은 서울시 지하철범죄의 특성을 분석한 후, 영국과 미국의 지하철범죄 통제전략...   \n",
      "4510   세계적으로 민간경비산업은 경제발전과 비례하여 성장해 왔다. 기존의 국가기관에 의한 ...   \n",
      "6339   통영국제음악제는 세계적인 작곡가 윤이상을 기리는 추모음악회로 시작하여, 짧은 역사에...   \n",
      "8295   영국은 2004년 국가재난관리법(Civil Contingencies Act 2004...   \n",
      "9420   경찰에서 범죄정보는 범죄에 대응하는 경찰 본연의 활동을 위한 의사결정의 근거이다. ...   \n",
      "9810   본 연구의 목적은 각 대륙을 대표하는 한국, 캐나다, 브라질, 영국, 호주의 수출물...   \n",
      "10107  현대사회가 정치, 경제, 사회를 포함한 모든 분야에서 전문화되고 복잡해지면서 일반적...   \n",
      "11029  미국영어와 영국영어의 모음은 몇 개 모음에서 발음 차이를 보여주고 있는데 한국 학생...   \n",
      "\n",
      "                                                keywords  \n",
      "1908                             재난관리;재난대응;방재대책;방재계획;영국;  \n",
      "4292                        지하철범죄;영국교통경찰;워싱턴메트로교통경찰서;감시;  \n",
      "4510       민간경비;영국 민간경비산업위원회;의무적 자격증제도;인증계약자제도;민간경비 자격증;  \n",
      "6339                             통영국제음악제;윤이상;음악축제;축제;통영;  \n",
      "8295   영국 재난관리체계;통합형 재난관리체계;재난위험성 평가제도;지역사회 위험 목록;국가위...  \n",
      "9420                               경찰;범죄정보;범죄분석;영국;의사결정;  \n",
      "9810                               수출물량지수;캐나다;브라질;영국;호주;  \n",
      "10107                         민간보안;민간조사시스템;실종자;민간조사원;영국;  \n",
      "11029  미국영어;영국영어;모음 인지;종성-r 없는 발음;[ɑ]-[ɔ]-[ʌ] 혼동;원순 모...  \n"
     ]
    }
   ],
   "source": [
    "# 저장된 모델 불러오기\n",
    "loaded_model = Word2Vec.load('skipgram_model.bin')\n",
    "\n",
    "def find_most_similar_doc_id_by_keywords(query_word):\n",
    "    try:\n",
    "        # 가장 유사한 단어와 유사도를 튜플로 반환\n",
    "        similar_words = loaded_model.wv.most_similar(query_word, topn=1)\n",
    "\n",
    "        if similar_words:\n",
    "            most_similar_doc_id, similarity = similar_words[0]\n",
    "            print(f\"가장 유사한 논문 ID: {most_similar_doc_id} (유사도: {similarity:.4f})\")\n",
    "\n",
    "            # 가장 유사한 document ID의 논문 정보 출력\n",
    "            similar_paper_info = df[df['keywords'].str.contains(query_word)]\n",
    "            print(\"논문 정보:\")\n",
    "            print(similar_paper_info)\n",
    "        else:\n",
    "            print(\"유사한 논문을 찾을 수 없습니다.\")\n",
    "\n",
    "    except KeyError:\n",
    "        print(f\"'{query_word}'에 대한 정보가 없습니다.\")\n",
    "\n",
    "# 예시: '영국'에 대한 가장 유사한 논문 ID 찾기 (기준을 keywords로 변경)\n",
    "query_word = '영국'\n",
    "find_most_similar_doc_id_by_keywords(query_word)"
   ]
  },
  {
   "cell_type": "code",
   "execution_count": null,
   "id": "f25ef597",
   "metadata": {},
   "outputs": [],
   "source": []
  }
 ],
 "metadata": {
  "kernelspec": {
   "display_name": "Python 3",
   "language": "python",
   "name": "python3"
  },
  "language_info": {
   "codemirror_mode": {
    "name": "ipython",
    "version": 3
   },
   "file_extension": ".py",
   "mimetype": "text/x-python",
   "name": "python",
   "nbconvert_exporter": "python",
   "pygments_lexer": "ipython3",
   "version": "3.8.8"
  }
 },
 "nbformat": 4,
 "nbformat_minor": 5
}
